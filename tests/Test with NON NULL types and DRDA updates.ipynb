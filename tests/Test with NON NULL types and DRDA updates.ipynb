{
 "cells": [
  {
   "cell_type": "markdown",
   "metadata": {},
   "source": [
    "## Non Null and pyDRDA Updates"
   ]
  },
  {
   "cell_type": "code",
   "execution_count": 7,
   "metadata": {},
   "outputs": [
    {
     "name": "stdout",
     "output_type": "stream",
     "text": [
      "Uninstalling pydrda-0.4.1:\n",
      "  Successfully uninstalled pydrda-0.4.1\n",
      "Collecting git+https://github.com/raphgauthier/pydrda.git\n",
      "  Cloning https://github.com/raphgauthier/pydrda.git to /tmp/pip-req-build-obx16nqy\n",
      "Requirement already satisfied: pyDes in /opt/conda/lib/python3.7/site-packages (from pydrda==0.4.1) (2.0.1)\n",
      "Building wheels for collected packages: pydrda\n",
      "  Building wheel for pydrda (setup.py): started\n",
      "  Building wheel for pydrda (setup.py): finished with status 'done'\n",
      "  Stored in directory: /tmp/pip-ephem-wheel-cache-s40_z1wn/wheels/01/1d/4d/ff24c4d2e1c444211f6f68a1c722e8579ea800e72ef0844ab7\n",
      "Successfully built pydrda\n",
      "Installing collected packages: pydrda\n",
      "Successfully installed pydrda-0.4.1\n"
     ]
    },
    {
     "name": "stderr",
     "output_type": "stream",
     "text": [
      "  Running command git clone -q https://github.com/raphgauthier/pydrda.git /tmp/pip-req-build-obx16nqy\n"
     ]
    }
   ],
   "source": [
    "%%sh\n",
    "pip uninstall pydrda --yes\n",
    "pip install git+https://github.com/raphgauthier/pydrda.git"
   ]
  },
  {
   "cell_type": "code",
   "execution_count": 13,
   "metadata": {},
   "outputs": [],
   "source": [
    "import io\n",
    "import decimal\n",
    "import datetime\n",
    "import decimal\n",
    "import drda"
   ]
  },
  {
   "cell_type": "code",
   "execution_count": 14,
   "metadata": {},
   "outputs": [],
   "source": [
    "host = 'localhost'\n",
    "database = 'upd;create=true'\n",
    "port = 1527\n",
    "\n",
    "connection = drda.connect(\n",
    "            host=host,\n",
    "            database=database,\n",
    "            port=port,)\n",
    "cur = connection.cursor()"
   ]
  },
  {
   "cell_type": "markdown",
   "metadata": {},
   "source": [
    "#### DRDA_TYPE_VARCHAR = 0x32"
   ]
  },
  {
   "cell_type": "code",
   "execution_count": 3,
   "metadata": {},
   "outputs": [
    {
     "name": "stdout",
     "output_type": "stream",
     "text": [
      "t: 50\n",
      "ps: b'\\x00\\x14'\n",
      "b: b'\\x00\\x11abcdefghijklmnopq\\xff\\x00\\x00\\x01B\\xff\\x00\\x00\\x01C\\x00\\x00\\x00\\x00d02000CSS10120\\x00\\x00\\x00\\x00\\x00\\x00\\x00\\x00\\x03\\x00\\x00\\x00\\x00\\x00\\x00\\x00\\x00\\x00\\x00\\x00\\x00\\x00\\x00\\x00\\x00           \\x00\\x00\\x00\\x00\\x00\\x00\\xff\\xff'\n",
      "t: 50\n",
      "ps: b'\\x00\\x14'\n",
      "b: b'\\x00\\x01B\\xff\\x00\\x00\\x01C\\x00\\x00\\x00\\x00d02000CSS10120\\x00\\x00\\x00\\x00\\x00\\x00\\x00\\x00\\x03\\x00\\x00\\x00\\x00\\x00\\x00\\x00\\x00\\x00\\x00\\x00\\x00\\x00\\x00\\x00\\x00           \\x00\\x00\\x00\\x00\\x00\\x00\\xff\\xff'\n",
      "t: 50\n",
      "ps: b'\\x00\\x14'\n",
      "b: b'\\x00\\x01C\\x00\\x00\\x00\\x00d02000CSS10120\\x00\\x00\\x00\\x00\\x00\\x00\\x00\\x00\\x03\\x00\\x00\\x00\\x00\\x00\\x00\\x00\\x00\\x00\\x00\\x00\\x00\\x00\\x00\\x00\\x00           \\x00\\x00\\x00\\x00\\x00\\x00\\xff\\xff'\n",
      "('abcdefghijklmnopq',)\n",
      "('B',)\n",
      "('C',)\n"
     ]
    }
   ],
   "source": [
    "cur = connection.cursor()\n",
    "cur.execute(\"\"\"CREATE TABLE test_varchar (s VARCHAR(20)NOT NULL)\"\"\")\n",
    "cur.execute(\"\"\"\n",
    "            INSERT INTO test_varchar (s) VALUES\n",
    "                ('abcdefghijklmnopq'),\n",
    "                ('B'),\n",
    "                ('C')\n",
    "        \"\"\")\n",
    "cur.execute(\"SELECT * FROM test_varchar\")\n",
    "for r in cur.fetchall():\n",
    "    print(r)"
   ]
  },
  {
   "cell_type": "code",
   "execution_count": 4,
   "metadata": {},
   "outputs": [
    {
     "name": "stdout",
     "output_type": "stream",
     "text": [
      "t: 2\n",
      "ps: b'\\x00\\x04'\n",
      "b: b'\\x00\\x00\\x07\\xe3\\x00\\x00\\x00\\x00d02000CSS10120\\x00\\x00\\x00\\x00\\x00\\x00\\x00\\x00\\x01\\x00\\x00\\x00\\x00\\x00\\x00\\x00\\x00\\x00\\x00\\x00\\x00\\x00\\x00\\x00\\x00           \\x00\\x00\\x00\\x00\\x00\\x00\\xff\\xff'\n",
      "2019\n"
     ]
    }
   ],
   "source": [
    "cur.execute(\"\"\"CREATE TABLE test_int (d int NOT NULL)\"\"\")\n",
    "cur.execute(\"\"\"INSERT INTO test_int (d) VALUES (2019) \"\"\")\n",
    "cur.execute(\"SELECT * FROM test_int\")\n",
    "for r in cur.fetchall():\n",
    "    print(r[0])"
   ]
  },
  {
   "cell_type": "code",
   "execution_count": null,
   "metadata": {},
   "outputs": [],
   "source": [
    "cur.execute(\"\"\"CREATE TABLE test_datetime (d date NOT NULL)\"\"\")\n",
    "cur.execute(\"\"\"INSERT INTO test_datetime (d) VALUES ('2019-04-30') \"\"\")\n",
    "cur.execute(\"SELECT * FROM test_datetime\")\n",
    "for r in cur.fetchall():\n",
    "    print(r[0])"
   ]
  },
  {
   "cell_type": "code",
   "execution_count": null,
   "metadata": {},
   "outputs": [],
   "source": [
    "cur.execute(\"\"\"CREATE TABLE test_time (t time NOT NULL)\"\"\")\n",
    "cur.execute(\"\"\"INSERT INTO test_time (t) VALUES ('12:34:56') \"\"\")\n",
    "cur.execute(\"SELECT * FROM test_time\")\n",
    "for r in cur.fetchall():\n",
    "    print(r[0])"
   ]
  },
  {
   "cell_type": "code",
   "execution_count": null,
   "metadata": {},
   "outputs": [],
   "source": [
    "cur.execute(\"\"\"CREATE TABLE test_timestamp (dt timestamp NOT NULL)\"\"\")\n",
    "cur.execute(\"\"\"INSERT INTO test_timestamp (dt) VALUES ('2019-04-30 12:34:56.123456789') \"\"\")\n",
    "cur.execute(\"SELECT * FROM test_timestamp\")\n",
    "for r in cur.fetchall():\n",
    "    print(r[0])"
   ]
  },
  {
   "cell_type": "markdown",
   "metadata": {},
   "source": [
    "#### DRDA_TYPE_INTEGER8 = 0x16"
   ]
  },
  {
   "cell_type": "code",
   "execution_count": null,
   "metadata": {},
   "outputs": [],
   "source": [
    "cur.execute(\"\"\"CREATE TABLE test_bigint (bi bigint NOT NULL)\"\"\")\n",
    "cur.execute(\"\"\"INSERT INTO test_bigint (bi) VALUES (-1) \"\"\")\n",
    "cur.execute(\"SELECT * FROM test_bigint\")\n",
    "for r in cur.fetchall():\n",
    "    print(r[0])"
   ]
  },
  {
   "cell_type": "code",
   "execution_count": null,
   "metadata": {},
   "outputs": [],
   "source": [
    "cur.execute(\"\"\"CREATE TABLE test_smallint (si smallint NOT NULL)\"\"\")\n",
    "cur.execute(\"\"\"INSERT INTO test_smallint (si) VALUES (-1) \"\"\")\n",
    "cur.execute(\"SELECT * FROM test_smallint\")\n",
    "for r in cur.fetchall():\n",
    "    print(r[0])"
   ]
  },
  {
   "cell_type": "markdown",
   "metadata": {},
   "source": [
    "#### DRDA_TYPE_FLOAT8 = 0x0A"
   ]
  },
  {
   "cell_type": "code",
   "execution_count": null,
   "metadata": {},
   "outputs": [],
   "source": [
    "cur.execute(\"\"\"CREATE TABLE test_float8 (d double NOT NULL)\"\"\")\n",
    "cur.execute(\"\"\"INSERT INTO test_float8 (d) VALUES (-1) \"\"\")\n",
    "cur.execute(\"SELECT * FROM test_float8\")\n",
    "for r in cur.fetchall():\n",
    "    print(r[0])"
   ]
  },
  {
   "cell_type": "markdown",
   "metadata": {},
   "source": [
    "#### DRDA_TYPE_LONG = 0x34"
   ]
  },
  {
   "cell_type": "code",
   "execution_count": null,
   "metadata": {},
   "outputs": [],
   "source": [
    "cur.execute(\"\"\"CREATE TABLE test_longvarchar (l LONG VARCHAR NOT NULL)\"\"\")\n",
    "cur.execute(\"\"\"INSERT INTO test_longvarchar (l) VALUES ('azerty') \"\"\")\n",
    "cur.execute(\"SELECT * FROM test_longvarchar\")\n",
    "for r in cur.fetchall():\n",
    "    print(r[0])"
   ]
  },
  {
   "cell_type": "markdown",
   "metadata": {},
   "source": [
    "#### DRDA_TYPE_NBOOLEAN = 0xBF"
   ]
  },
  {
   "cell_type": "code",
   "execution_count": 15,
   "metadata": {},
   "outputs": [
    {
     "name": "stdout",
     "output_type": "stream",
     "text": [
      "t: 51\n",
      "ps: b'\\x00\\x14'\n",
      "b: b'\\x00\\x00\\x06azerty\\x00\\x01\\xff\\x00\\x00\\x00\\x01B\\x00\\x00\\xff\\x00\\x00\\x00\\x01C\\x00\\x01\\xff\\x00\\x00\\x00\\x01D\\x00\\x00\\xff\\x00\\x00\\x00\\x01E\\x00\\x01\\x00\\x00\\x00\\x00d02000CSS10120\\x00\\x00\\x00\\x00\\x00\\x00\\x00\\x00\\x05\\x00\\x00\\x00\\x00\\x00\\x00\\x00\\x00\\x00\\x00\\x00\\x00\\x00\\x00\\x00\\x00           \\x00\\x00\\x00\\x00\\x00\\x00\\xff\\xff'\n",
      "t: 191\n",
      "ps: b'\\x00\\x01'\n",
      "b: b'\\x00\\x01\\xff\\x00\\x00\\x00\\x01B\\x00\\x00\\xff\\x00\\x00\\x00\\x01C\\x00\\x01\\xff\\x00\\x00\\x00\\x01D\\x00\\x00\\xff\\x00\\x00\\x00\\x01E\\x00\\x01\\x00\\x00\\x00\\x00d02000CSS10120\\x00\\x00\\x00\\x00\\x00\\x00\\x00\\x00\\x05\\x00\\x00\\x00\\x00\\x00\\x00\\x00\\x00\\x00\\x00\\x00\\x00\\x00\\x00\\x00\\x00           \\x00\\x00\\x00\\x00\\x00\\x00\\xff\\xff'\n",
      "t: 51\n",
      "ps: b'\\x00\\x14'\n",
      "b: b'\\x00\\x00\\x01B\\x00\\x00\\xff\\x00\\x00\\x00\\x01C\\x00\\x01\\xff\\x00\\x00\\x00\\x01D\\x00\\x00\\xff\\x00\\x00\\x00\\x01E\\x00\\x01\\x00\\x00\\x00\\x00d02000CSS10120\\x00\\x00\\x00\\x00\\x00\\x00\\x00\\x00\\x05\\x00\\x00\\x00\\x00\\x00\\x00\\x00\\x00\\x00\\x00\\x00\\x00\\x00\\x00\\x00\\x00           \\x00\\x00\\x00\\x00\\x00\\x00\\xff\\xff'\n",
      "t: 191\n",
      "ps: b'\\x00\\x01'\n",
      "b: b'\\x00\\x00\\xff\\x00\\x00\\x00\\x01C\\x00\\x01\\xff\\x00\\x00\\x00\\x01D\\x00\\x00\\xff\\x00\\x00\\x00\\x01E\\x00\\x01\\x00\\x00\\x00\\x00d02000CSS10120\\x00\\x00\\x00\\x00\\x00\\x00\\x00\\x00\\x05\\x00\\x00\\x00\\x00\\x00\\x00\\x00\\x00\\x00\\x00\\x00\\x00\\x00\\x00\\x00\\x00           \\x00\\x00\\x00\\x00\\x00\\x00\\xff\\xff'\n",
      "t: 51\n",
      "ps: b'\\x00\\x14'\n",
      "b: b'\\x00\\x00\\x01C\\x00\\x01\\xff\\x00\\x00\\x00\\x01D\\x00\\x00\\xff\\x00\\x00\\x00\\x01E\\x00\\x01\\x00\\x00\\x00\\x00d02000CSS10120\\x00\\x00\\x00\\x00\\x00\\x00\\x00\\x00\\x05\\x00\\x00\\x00\\x00\\x00\\x00\\x00\\x00\\x00\\x00\\x00\\x00\\x00\\x00\\x00\\x00           \\x00\\x00\\x00\\x00\\x00\\x00\\xff\\xff'\n",
      "t: 191\n",
      "ps: b'\\x00\\x01'\n",
      "b: b'\\x00\\x01\\xff\\x00\\x00\\x00\\x01D\\x00\\x00\\xff\\x00\\x00\\x00\\x01E\\x00\\x01\\x00\\x00\\x00\\x00d02000CSS10120\\x00\\x00\\x00\\x00\\x00\\x00\\x00\\x00\\x05\\x00\\x00\\x00\\x00\\x00\\x00\\x00\\x00\\x00\\x00\\x00\\x00\\x00\\x00\\x00\\x00           \\x00\\x00\\x00\\x00\\x00\\x00\\xff\\xff'\n",
      "t: 51\n",
      "ps: b'\\x00\\x14'\n",
      "b: b'\\x00\\x00\\x01D\\x00\\x00\\xff\\x00\\x00\\x00\\x01E\\x00\\x01\\x00\\x00\\x00\\x00d02000CSS10120\\x00\\x00\\x00\\x00\\x00\\x00\\x00\\x00\\x05\\x00\\x00\\x00\\x00\\x00\\x00\\x00\\x00\\x00\\x00\\x00\\x00\\x00\\x00\\x00\\x00           \\x00\\x00\\x00\\x00\\x00\\x00\\xff\\xff'\n",
      "t: 191\n",
      "ps: b'\\x00\\x01'\n",
      "b: b'\\x00\\x00\\xff\\x00\\x00\\x00\\x01E\\x00\\x01\\x00\\x00\\x00\\x00d02000CSS10120\\x00\\x00\\x00\\x00\\x00\\x00\\x00\\x00\\x05\\x00\\x00\\x00\\x00\\x00\\x00\\x00\\x00\\x00\\x00\\x00\\x00\\x00\\x00\\x00\\x00           \\x00\\x00\\x00\\x00\\x00\\x00\\xff\\xff'\n",
      "t: 51\n",
      "ps: b'\\x00\\x14'\n",
      "b: b'\\x00\\x00\\x01E\\x00\\x01\\x00\\x00\\x00\\x00d02000CSS10120\\x00\\x00\\x00\\x00\\x00\\x00\\x00\\x00\\x05\\x00\\x00\\x00\\x00\\x00\\x00\\x00\\x00\\x00\\x00\\x00\\x00\\x00\\x00\\x00\\x00           \\x00\\x00\\x00\\x00\\x00\\x00\\xff\\xff'\n",
      "t: 191\n",
      "ps: b'\\x00\\x01'\n",
      "b: b'\\x00\\x01\\x00\\x00\\x00\\x00d02000CSS10120\\x00\\x00\\x00\\x00\\x00\\x00\\x00\\x00\\x05\\x00\\x00\\x00\\x00\\x00\\x00\\x00\\x00\\x00\\x00\\x00\\x00\\x00\\x00\\x00\\x00           \\x00\\x00\\x00\\x00\\x00\\x00\\xff\\xff'\n",
      "1\n",
      "0\n",
      "1\n",
      "0\n",
      "1\n"
     ]
    }
   ],
   "source": [
    "cur.execute(\"\"\"CREATE TABLE test_bool (s VARCHAR(20), b boolean)\"\"\")\n",
    "cur.execute(\"\"\"\n",
    "            INSERT INTO test_bool (s, b) VALUES\n",
    "                ('azerty',TRUE),\n",
    "                ('B', FALSE),\n",
    "                ('C', TRUE),\n",
    "                ('D', FALSE),\n",
    "                ('E', TRUE)\"\"\")\n",
    "cur.execute(\"SELECT * FROM test_bool\")\n",
    "for r in cur.fetchall():\n",
    "    print(r[1])"
   ]
  },
  {
   "cell_type": "markdown",
   "metadata": {},
   "source": [
    "#### DRDA_TYPE_BOOLEAN = 0xBE"
   ]
  },
  {
   "cell_type": "code",
   "execution_count": 6,
   "metadata": {},
   "outputs": [
    {
     "name": "stdout",
     "output_type": "stream",
     "text": [
      "t: 51\n",
      "ps: b'\\x00\\x14'\n",
      "b: b'\\x00\\x00\\x06azerty\\x01\\xff\\x00\\x00\\x00\\x01B\\x00\\xff\\x00\\x00\\x00\\x01C\\x01\\xff\\x00\\x00\\x00\\x01D\\x00\\xff\\x00\\x00\\x00\\x01E\\x01\\x00\\x00\\x00\\x00d02000CSS10120\\x00\\x00\\x00\\x00\\x00\\x00\\x00\\x00\\x05\\x00\\x00\\x00\\x00\\x00\\x00\\x00\\x00\\x00\\x00\\x00\\x00\\x00\\x00\\x00\\x00           \\x00\\x00\\x00\\x00\\x00\\x00\\xff\\xff'\n",
      "t: 190\n",
      "ps: b'\\x00\\x01'\n",
      "b: b'\\x01\\xff\\x00\\x00\\x00\\x01B\\x00\\xff\\x00\\x00\\x00\\x01C\\x01\\xff\\x00\\x00\\x00\\x01D\\x00\\xff\\x00\\x00\\x00\\x01E\\x01\\x00\\x00\\x00\\x00d02000CSS10120\\x00\\x00\\x00\\x00\\x00\\x00\\x00\\x00\\x05\\x00\\x00\\x00\\x00\\x00\\x00\\x00\\x00\\x00\\x00\\x00\\x00\\x00\\x00\\x00\\x00           \\x00\\x00\\x00\\x00\\x00\\x00\\xff\\xff'\n",
      "t: 51\n",
      "ps: b'\\x00\\x14'\n",
      "b: b'\\x00\\x00\\x01B\\x00\\xff\\x00\\x00\\x00\\x01C\\x01\\xff\\x00\\x00\\x00\\x01D\\x00\\xff\\x00\\x00\\x00\\x01E\\x01\\x00\\x00\\x00\\x00d02000CSS10120\\x00\\x00\\x00\\x00\\x00\\x00\\x00\\x00\\x05\\x00\\x00\\x00\\x00\\x00\\x00\\x00\\x00\\x00\\x00\\x00\\x00\\x00\\x00\\x00\\x00           \\x00\\x00\\x00\\x00\\x00\\x00\\xff\\xff'\n",
      "t: 190\n",
      "ps: b'\\x00\\x01'\n",
      "b: b'\\x00\\xff\\x00\\x00\\x00\\x01C\\x01\\xff\\x00\\x00\\x00\\x01D\\x00\\xff\\x00\\x00\\x00\\x01E\\x01\\x00\\x00\\x00\\x00d02000CSS10120\\x00\\x00\\x00\\x00\\x00\\x00\\x00\\x00\\x05\\x00\\x00\\x00\\x00\\x00\\x00\\x00\\x00\\x00\\x00\\x00\\x00\\x00\\x00\\x00\\x00           \\x00\\x00\\x00\\x00\\x00\\x00\\xff\\xff'\n",
      "t: 51\n",
      "ps: b'\\x00\\x14'\n",
      "b: b'\\x00\\x00\\x01C\\x01\\xff\\x00\\x00\\x00\\x01D\\x00\\xff\\x00\\x00\\x00\\x01E\\x01\\x00\\x00\\x00\\x00d02000CSS10120\\x00\\x00\\x00\\x00\\x00\\x00\\x00\\x00\\x05\\x00\\x00\\x00\\x00\\x00\\x00\\x00\\x00\\x00\\x00\\x00\\x00\\x00\\x00\\x00\\x00           \\x00\\x00\\x00\\x00\\x00\\x00\\xff\\xff'\n",
      "t: 190\n",
      "ps: b'\\x00\\x01'\n",
      "b: b'\\x01\\xff\\x00\\x00\\x00\\x01D\\x00\\xff\\x00\\x00\\x00\\x01E\\x01\\x00\\x00\\x00\\x00d02000CSS10120\\x00\\x00\\x00\\x00\\x00\\x00\\x00\\x00\\x05\\x00\\x00\\x00\\x00\\x00\\x00\\x00\\x00\\x00\\x00\\x00\\x00\\x00\\x00\\x00\\x00           \\x00\\x00\\x00\\x00\\x00\\x00\\xff\\xff'\n",
      "t: 51\n",
      "ps: b'\\x00\\x14'\n",
      "b: b'\\x00\\x00\\x01D\\x00\\xff\\x00\\x00\\x00\\x01E\\x01\\x00\\x00\\x00\\x00d02000CSS10120\\x00\\x00\\x00\\x00\\x00\\x00\\x00\\x00\\x05\\x00\\x00\\x00\\x00\\x00\\x00\\x00\\x00\\x00\\x00\\x00\\x00\\x00\\x00\\x00\\x00           \\x00\\x00\\x00\\x00\\x00\\x00\\xff\\xff'\n",
      "t: 190\n",
      "ps: b'\\x00\\x01'\n",
      "b: b'\\x00\\xff\\x00\\x00\\x00\\x01E\\x01\\x00\\x00\\x00\\x00d02000CSS10120\\x00\\x00\\x00\\x00\\x00\\x00\\x00\\x00\\x05\\x00\\x00\\x00\\x00\\x00\\x00\\x00\\x00\\x00\\x00\\x00\\x00\\x00\\x00\\x00\\x00           \\x00\\x00\\x00\\x00\\x00\\x00\\xff\\xff'\n",
      "t: 51\n",
      "ps: b'\\x00\\x14'\n",
      "b: b'\\x00\\x00\\x01E\\x01\\x00\\x00\\x00\\x00d02000CSS10120\\x00\\x00\\x00\\x00\\x00\\x00\\x00\\x00\\x05\\x00\\x00\\x00\\x00\\x00\\x00\\x00\\x00\\x00\\x00\\x00\\x00\\x00\\x00\\x00\\x00           \\x00\\x00\\x00\\x00\\x00\\x00\\xff\\xff'\n",
      "t: 190\n",
      "ps: b'\\x00\\x01'\n",
      "b: b'\\x01\\x00\\x00\\x00\\x00d02000CSS10120\\x00\\x00\\x00\\x00\\x00\\x00\\x00\\x00\\x05\\x00\\x00\\x00\\x00\\x00\\x00\\x00\\x00\\x00\\x00\\x00\\x00\\x00\\x00\\x00\\x00           \\x00\\x00\\x00\\x00\\x00\\x00\\xff\\xff'\n",
      "1\n",
      "0\n",
      "1\n",
      "0\n",
      "1\n"
     ]
    }
   ],
   "source": [
    "cur.execute(\"\"\"CREATE TABLE test_boolnn (s VARCHAR(20), b boolean NOT NULL)\"\"\")\n",
    "cur.execute(\"\"\"\n",
    "            INSERT INTO test_boolnn (s, b) VALUES\n",
    "                ('azerty',TRUE),\n",
    "                ('B', FALSE),\n",
    "                ('C', TRUE),\n",
    "                ('D', FALSE),\n",
    "                ('E', TRUE)\"\"\")\n",
    "cur.execute(\"SELECT * FROM test_boolnn\")\n",
    "for r in cur.fetchall():\n",
    "    print(r[1])"
   ]
  },
  {
   "cell_type": "code",
   "execution_count": null,
   "metadata": {},
   "outputs": [],
   "source": [
    "cur.close()"
   ]
  },
  {
   "cell_type": "code",
   "execution_count": null,
   "metadata": {},
   "outputs": [],
   "source": [
    "connection.close()"
   ]
  },
  {
   "cell_type": "code",
   "execution_count": null,
   "metadata": {},
   "outputs": [],
   "source": []
  },
  {
   "cell_type": "code",
   "execution_count": null,
   "metadata": {},
   "outputs": [],
   "source": [
    "    "
   ]
  },
  {
   "cell_type": "code",
   "execution_count": null,
   "metadata": {},
   "outputs": [],
   "source": []
  },
  {
   "cell_type": "code",
   "execution_count": null,
   "metadata": {},
   "outputs": [],
   "source": []
  },
  {
   "cell_type": "code",
   "execution_count": null,
   "metadata": {},
   "outputs": [],
   "source": []
  },
  {
   "cell_type": "code",
   "execution_count": null,
   "metadata": {},
   "outputs": [],
   "source": []
  },
  {
   "cell_type": "code",
   "execution_count": null,
   "metadata": {},
   "outputs": [],
   "source": []
  }
 ],
 "metadata": {
  "kernelspec": {
   "display_name": "Python 3",
   "language": "python",
   "name": "python3"
  },
  "language_info": {
   "codemirror_mode": {
    "name": "ipython",
    "version": 3
   },
   "file_extension": ".py",
   "mimetype": "text/x-python",
   "name": "python",
   "nbconvert_exporter": "python",
   "pygments_lexer": "ipython3",
   "version": "3.7.3"
  }
 },
 "nbformat": 4,
 "nbformat_minor": 2
}
