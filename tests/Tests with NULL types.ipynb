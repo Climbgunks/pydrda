{
 "cells": [
  {
   "cell_type": "markdown",
   "metadata": {},
   "source": [
    "## Tests with NULL"
   ]
  },
  {
   "cell_type": "code",
   "execution_count": 22,
   "metadata": {},
   "outputs": [],
   "source": [
    "import decimal\n",
    "import datetime\n",
    "import decimal\n",
    "import drda"
   ]
  },
  {
   "cell_type": "code",
   "execution_count": 23,
   "metadata": {},
   "outputs": [],
   "source": [
    "host = 'localhost'\n",
    "database = 'null;create=true'\n",
    "port = 1527\n",
    "\n",
    "connection = drda.connect(\n",
    "            host=host,\n",
    "            database=database,\n",
    "            port=port,)\n",
    "cur = connection.cursor()"
   ]
  },
  {
   "cell_type": "code",
   "execution_count": 24,
   "metadata": {},
   "outputs": [],
   "source": [
    "cur = connection.cursor()\n",
    "cur.execute(\"\"\"\n",
    "                CREATE TABLE test_basic (\n",
    "                    s VARCHAR(20),\n",
    "                    i int,\n",
    "                    d1 decimal(2, 1),\n",
    "                    d2 decimal(11, 2)   )\n",
    "            \"\"\")"
   ]
  },
  {
   "cell_type": "code",
   "execution_count": 25,
   "metadata": {},
   "outputs": [],
   "source": [
    "cur.execute(\"\"\"\n",
    "            INSERT INTO test_basic (s, i, d1, d2) VALUES\n",
    "                ('abcdefghijklmnopq', 1, 1.1, 123456789.12),\n",
    "                ('B', 2, 1.2, 2),\n",
    "                ('C', 3, null, null)\n",
    "        \"\"\")"
   ]
  },
  {
   "cell_type": "code",
   "execution_count": 26,
   "metadata": {},
   "outputs": [
    {
     "name": "stdout",
     "output_type": "stream",
     "text": [
      "('abcdefghijklmnopq', 1, Decimal('1.1'), Decimal('123456789.12'))\n",
      "('B', 2, Decimal('1.2'), Decimal('2.00'))\n",
      "('C', 3, None, None)\n"
     ]
    }
   ],
   "source": [
    "cur.execute(\"SELECT * FROM test_basic\")\n",
    "for r in cur.fetchall():\n",
    "    print(r)"
   ]
  },
  {
   "cell_type": "code",
   "execution_count": 27,
   "metadata": {},
   "outputs": [],
   "source": [
    "cur.execute(\"\"\"\n",
    "                CREATE TABLE test_datetime (\n",
    "                    d date,\n",
    "                    t time,\n",
    "                    dt timestamp\n",
    "                )\n",
    "            \"\"\")"
   ]
  },
  {
   "cell_type": "code",
   "execution_count": 28,
   "metadata": {},
   "outputs": [],
   "source": [
    "cur.execute(\"\"\"\n",
    "            INSERT INTO test_datetime (d, t, dt) VALUES\n",
    "                ('2019-04-30', '12:34:56', '2019-04-30 12:34:56.123456789')\n",
    "        \"\"\")"
   ]
  },
  {
   "cell_type": "code",
   "execution_count": 29,
   "metadata": {},
   "outputs": [
    {
     "name": "stdout",
     "output_type": "stream",
     "text": [
      "2019-04-30\n"
     ]
    }
   ],
   "source": [
    "cur.execute(\"SELECT * FROM test_datetime\")\n",
    "for r in cur.fetchall():\n",
    "    print(r[0])"
   ]
  },
  {
   "cell_type": "code",
   "execution_count": 30,
   "metadata": {},
   "outputs": [],
   "source": [
    "cur = connection.cursor()\n",
    "cur.execute(\"\"\"\n",
    "                CREATE TABLE test_double (\n",
    "                    bi bigint,\n",
    "                    si smallint,\n",
    "                    r real,\n",
    "                    d double\n",
    "                )\n",
    "            \"\"\")"
   ]
  },
  {
   "cell_type": "code",
   "execution_count": 31,
   "metadata": {},
   "outputs": [],
   "source": [
    "cur.execute(\"DELETE FROM test_double\")"
   ]
  },
  {
   "cell_type": "code",
   "execution_count": 32,
   "metadata": {},
   "outputs": [],
   "source": [
    "cur.execute(\"\"\"\n",
    "            INSERT INTO test_double (bi, si, r, d) VALUES\n",
    "                (-1, -1, -1, -1)\n",
    "        \"\"\")"
   ]
  },
  {
   "cell_type": "code",
   "execution_count": 33,
   "metadata": {},
   "outputs": [
    {
     "name": "stdout",
     "output_type": "stream",
     "text": [
      "-1\n"
     ]
    }
   ],
   "source": [
    "cur.execute(\"SELECT * FROM test_double\")\n",
    "for r in cur.fetchall():\n",
    "    print(r[0])"
   ]
  },
  {
   "cell_type": "code",
   "execution_count": 34,
   "metadata": {},
   "outputs": [],
   "source": [
    "cur.close()"
   ]
  },
  {
   "cell_type": "code",
   "execution_count": 35,
   "metadata": {},
   "outputs": [],
   "source": [
    "connection.close()"
   ]
  },
  {
   "cell_type": "code",
   "execution_count": null,
   "metadata": {},
   "outputs": [],
   "source": []
  }
 ],
 "metadata": {
  "kernelspec": {
   "display_name": "Python 3",
   "language": "python",
   "name": "python3"
  },
  "language_info": {
   "codemirror_mode": {
    "name": "ipython",
    "version": 3
   },
   "file_extension": ".py",
   "mimetype": "text/x-python",
   "name": "python",
   "nbconvert_exporter": "python",
   "pygments_lexer": "ipython3",
   "version": "3.7.3"
  }
 },
 "nbformat": 4,
 "nbformat_minor": 2
}
